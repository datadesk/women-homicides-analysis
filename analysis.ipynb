{
 "cells": [
  {
   "cell_type": "markdown",
   "metadata": {},
   "source": [
    "# Women homicide analysis\n",
    "\n",
    "By [Iris Lee](http://www.twitter.com/@irisslee)  \n",
    "  \n",
    "The Los Angeles Times [Homicide Report](https://homicide.latimes.com) conducted an analysis of female victims. It found: \n",
    "\n",
    "* The number of women being killed is increasing.\n",
    "* Of the 295 women killed over past the three years, 75% of them are \"cleared\" - meaning suspect has been identified - by an investigating agency.  \n",
    "* Of the 214 cleared cases, 170 cases had a suspect that knew the victim prior to killing.\n",
    "* There were 99 cases where the suspect was in an intimate relationship with the victim.\n",
    "\n",
    "These findings resulted in the September 19th story [\"As homicides drop in L.A., more women are being killed — often by intimate partners\"](https://www.latimes.com/projects/women-violence-homicides-increase-death-murder/)."
   ]
  },
  {
   "cell_type": "markdown",
   "metadata": {},
   "source": [
    "### Configuration  "
   ]
  },
  {
   "cell_type": "code",
   "execution_count": 1,
   "metadata": {},
   "outputs": [],
   "source": [
    "import os\n",
    "import warnings\n",
    "import pandas as pd\n",
    "import altair as alt"
   ]
  },
  {
   "cell_type": "code",
   "execution_count": 2,
   "metadata": {},
   "outputs": [
    {
     "data": {
      "text/plain": [
       "DataTransformerRegistry.enable('json')"
      ]
     },
     "execution_count": 2,
     "metadata": {},
     "output_type": "execute_result"
    }
   ],
   "source": [
    "warnings.filterwarnings('ignore')\n",
    "pd.set_option('display.max_columns',500)\n",
    "alt.data_transformers.enable('json')"
   ]
  },
  {
   "cell_type": "markdown",
   "metadata": {},
   "source": [
    "### Download and read homicides  \n",
    "Retrieves homicide list from the Times' unpublished API. This step had been withheld from the notebook to maintain our site's security."
   ]
  },
  {
   "cell_type": "code",
   "execution_count": 5,
   "metadata": {},
   "outputs": [],
   "source": [
    "homicides = pd.read_csv(os.getenv(\"HOMICIDE_REPORT_API\"))"
   ]
  },
  {
   "cell_type": "markdown",
   "metadata": {},
   "source": [
    "Separate out death year from death date"
   ]
  },
  {
   "cell_type": "code",
   "execution_count": 6,
   "metadata": {},
   "outputs": [],
   "source": [
    "homicides[\"death date\"] = pd.to_datetime(homicides['death date'])"
   ]
  },
  {
   "cell_type": "code",
   "execution_count": 7,
   "metadata": {},
   "outputs": [],
   "source": [
    "homicides['death_year'] = homicides['death date'].dt.year"
   ]
  },
  {
   "cell_type": "markdown",
   "metadata": {},
   "source": [
    "Separate out 10 years"
   ]
  },
  {
   "cell_type": "code",
   "execution_count": 8,
   "metadata": {},
   "outputs": [],
   "source": [
    "h10 = homicides[homicides[\"death_year\"].isin(list(range(2008,2019)))]"
   ]
  },
  {
   "cell_type": "code",
   "execution_count": 9,
   "metadata": {},
   "outputs": [
    {
     "data": {
      "text/html": [
       "<div>\n",
       "<style scoped>\n",
       "    .dataframe tbody tr th:only-of-type {\n",
       "        vertical-align: middle;\n",
       "    }\n",
       "\n",
       "    .dataframe tbody tr th {\n",
       "        vertical-align: top;\n",
       "    }\n",
       "\n",
       "    .dataframe thead th {\n",
       "        text-align: right;\n",
       "    }\n",
       "</style>\n",
       "<table border=\"1\" class=\"dataframe\">\n",
       "  <thead>\n",
       "    <tr style=\"text-align: right;\">\n",
       "      <th></th>\n",
       "      <th>ID</th>\n",
       "      <th>coroners case number</th>\n",
       "      <th>police case number</th>\n",
       "      <th>da case number</th>\n",
       "      <th>slug</th>\n",
       "      <th>first name</th>\n",
       "      <th>middle name</th>\n",
       "      <th>last name</th>\n",
       "      <th>suffix</th>\n",
       "      <th>death date</th>\n",
       "      <th>death time</th>\n",
       "      <th>age</th>\n",
       "      <th>date of birth</th>\n",
       "      <th>cause</th>\n",
       "      <th>security hold</th>\n",
       "      <th>Have autopsy?</th>\n",
       "      <th>gender</th>\n",
       "      <th>race</th>\n",
       "      <th>died on scene</th>\n",
       "      <th>sequela</th>\n",
       "      <th>incident address</th>\n",
       "      <th>incident zipcode</th>\n",
       "      <th>officer involved</th>\n",
       "      <th>ruling</th>\n",
       "      <th>coroners description</th>\n",
       "      <th>synopsis</th>\n",
       "      <th>incident point x</th>\n",
       "      <th>incident point y</th>\n",
       "      <th>neighborhoodv6__name</th>\n",
       "      <th>jurisdiction__name</th>\n",
       "      <th>image</th>\n",
       "      <th>death_year</th>\n",
       "    </tr>\n",
       "  </thead>\n",
       "  <tbody>\n",
       "    <tr>\n",
       "      <th>365</th>\n",
       "      <td>16949</td>\n",
       "      <td>2018-09898</td>\n",
       "      <td>018-19377-0459-011</td>\n",
       "      <td>NaN</td>\n",
       "      <td>jose-carlos-soto-jr</td>\n",
       "      <td>Jose</td>\n",
       "      <td>Carlos</td>\n",
       "      <td>Soto</td>\n",
       "      <td>Jr.</td>\n",
       "      <td>2018-12-31</td>\n",
       "      <td>17:06:00</td>\n",
       "      <td>26.0</td>\n",
       "      <td>1992-03-03</td>\n",
       "      <td>gunshot</td>\n",
       "      <td>False</td>\n",
       "      <td>False</td>\n",
       "      <td>male</td>\n",
       "      <td>latino</td>\n",
       "      <td>True</td>\n",
       "      <td>False</td>\n",
       "      <td>14300 block of Carmenita Road</td>\n",
       "      <td>90650.0</td>\n",
       "      <td>False</td>\n",
       "      <td>H</td>\n",
       "      <td>GUNSHOT WOUNDS OF THE CHEST    26Y/O MALE WAS ...</td>\n",
       "      <td>NaN</td>\n",
       "      <td>-118.046626</td>\n",
       "      <td>33.901736</td>\n",
       "      <td>Norwalk</td>\n",
       "      <td>LASD Homicide</td>\n",
       "      <td>NaN</td>\n",
       "      <td>2018</td>\n",
       "    </tr>\n",
       "  </tbody>\n",
       "</table>\n",
       "</div>"
      ],
      "text/plain": [
       "        ID coroners case number  police case number da case number  \\\n",
       "365  16949           2018-09898  018-19377-0459-011            NaN   \n",
       "\n",
       "                    slug first name middle name last name suffix death date  \\\n",
       "365  jose-carlos-soto-jr       Jose      Carlos      Soto    Jr. 2018-12-31   \n",
       "\n",
       "    death time   age date of birth    cause  security hold  Have autopsy?  \\\n",
       "365   17:06:00  26.0    1992-03-03  gunshot          False          False   \n",
       "\n",
       "    gender    race  died on scene sequela               incident address  \\\n",
       "365   male  latino           True   False  14300 block of Carmenita Road   \n",
       "\n",
       "     incident zipcode  officer involved ruling  \\\n",
       "365           90650.0             False      H   \n",
       "\n",
       "                                  coroners description synopsis  \\\n",
       "365  GUNSHOT WOUNDS OF THE CHEST    26Y/O MALE WAS ...      NaN   \n",
       "\n",
       "     incident point x  incident point y neighborhoodv6__name  \\\n",
       "365       -118.046626         33.901736              Norwalk   \n",
       "\n",
       "    jurisdiction__name image  death_year  \n",
       "365      LASD Homicide   NaN        2018  "
      ]
     },
     "execution_count": 9,
     "metadata": {},
     "output_type": "execute_result"
    }
   ],
   "source": [
    "h10.head(1)"
   ]
  },
  {
   "cell_type": "code",
   "execution_count": 10,
   "metadata": {},
   "outputs": [
    {
     "data": {
      "text/plain": [
       "7505"
      ]
     },
     "execution_count": 10,
     "metadata": {},
     "output_type": "execute_result"
    }
   ],
   "source": [
    "h10.groupby('death_year').size().sum()"
   ]
  },
  {
   "cell_type": "markdown",
   "metadata": {},
   "source": [
    "Separate out victims with gender listed "
   ]
  },
  {
   "cell_type": "code",
   "execution_count": 11,
   "metadata": {},
   "outputs": [],
   "source": [
    "with_gender = h10[h10.gender.isin(['male','female'])]"
   ]
  },
  {
   "cell_type": "code",
   "execution_count": 12,
   "metadata": {},
   "outputs": [
    {
     "data": {
      "text/plain": [
       "male      6395\n",
       "female    1096\n",
       "Name: gender, dtype: int64"
      ]
     },
     "execution_count": 12,
     "metadata": {},
     "output_type": "execute_result"
    }
   ],
   "source": [
    "with_gender.gender.value_counts()"
   ]
  },
  {
   "cell_type": "code",
   "execution_count": 13,
   "metadata": {},
   "outputs": [
    {
     "data": {
      "text/plain": [
       "male      0.853691\n",
       "female    0.146309\n",
       "Name: gender, dtype: float64"
      ]
     },
     "execution_count": 13,
     "metadata": {},
     "output_type": "execute_result"
    }
   ],
   "source": [
    "with_gender.gender.value_counts('normalize')"
   ]
  },
  {
   "cell_type": "code",
   "execution_count": 14,
   "metadata": {},
   "outputs": [
    {
     "data": {
      "text/html": [
       "<div>\n",
       "<style scoped>\n",
       "    .dataframe tbody tr th:only-of-type {\n",
       "        vertical-align: middle;\n",
       "    }\n",
       "\n",
       "    .dataframe tbody tr th {\n",
       "        vertical-align: top;\n",
       "    }\n",
       "\n",
       "    .dataframe thead th {\n",
       "        text-align: right;\n",
       "    }\n",
       "</style>\n",
       "<table border=\"1\" class=\"dataframe\">\n",
       "  <thead>\n",
       "    <tr style=\"text-align: right;\">\n",
       "      <th>gender</th>\n",
       "      <th>female</th>\n",
       "      <th>male</th>\n",
       "    </tr>\n",
       "    <tr>\n",
       "      <th>death_year</th>\n",
       "      <th></th>\n",
       "      <th></th>\n",
       "    </tr>\n",
       "  </thead>\n",
       "  <tbody>\n",
       "    <tr>\n",
       "      <th>2008</th>\n",
       "      <td>131</td>\n",
       "      <td>755</td>\n",
       "    </tr>\n",
       "    <tr>\n",
       "      <th>2009</th>\n",
       "      <td>108</td>\n",
       "      <td>660</td>\n",
       "    </tr>\n",
       "    <tr>\n",
       "      <th>2010</th>\n",
       "      <td>121</td>\n",
       "      <td>568</td>\n",
       "    </tr>\n",
       "    <tr>\n",
       "      <th>2011</th>\n",
       "      <td>96</td>\n",
       "      <td>548</td>\n",
       "    </tr>\n",
       "    <tr>\n",
       "      <th>2012</th>\n",
       "      <td>89</td>\n",
       "      <td>567</td>\n",
       "    </tr>\n",
       "    <tr>\n",
       "      <th>2013</th>\n",
       "      <td>76</td>\n",
       "      <td>546</td>\n",
       "    </tr>\n",
       "    <tr>\n",
       "      <th>2014</th>\n",
       "      <td>82</td>\n",
       "      <td>503</td>\n",
       "    </tr>\n",
       "    <tr>\n",
       "      <th>2015</th>\n",
       "      <td>98</td>\n",
       "      <td>566</td>\n",
       "    </tr>\n",
       "    <tr>\n",
       "      <th>2016</th>\n",
       "      <td>87</td>\n",
       "      <td>609</td>\n",
       "    </tr>\n",
       "    <tr>\n",
       "      <th>2017</th>\n",
       "      <td>94</td>\n",
       "      <td>550</td>\n",
       "    </tr>\n",
       "    <tr>\n",
       "      <th>2018</th>\n",
       "      <td>114</td>\n",
       "      <td>523</td>\n",
       "    </tr>\n",
       "  </tbody>\n",
       "</table>\n",
       "</div>"
      ],
      "text/plain": [
       "gender      female  male\n",
       "death_year              \n",
       "2008           131   755\n",
       "2009           108   660\n",
       "2010           121   568\n",
       "2011            96   548\n",
       "2012            89   567\n",
       "2013            76   546\n",
       "2014            82   503\n",
       "2015            98   566\n",
       "2016            87   609\n",
       "2017            94   550\n",
       "2018           114   523"
      ]
     },
     "execution_count": 14,
     "metadata": {},
     "output_type": "execute_result"
    }
   ],
   "source": [
    "with_gender.groupby(['death_year', 'gender']).size().unstack(level=-1)"
   ]
  },
  {
   "cell_type": "markdown",
   "metadata": {},
   "source": [
    "How has number of homicide victims change over the years?"
   ]
  },
  {
   "cell_type": "code",
   "execution_count": 15,
   "metadata": {},
   "outputs": [
    {
     "data": {
      "application/vnd.vegalite.v3+json": {
       "$schema": "https://vega.github.io/schema/vega-lite/v3.4.0.json",
       "config": {
        "mark": {
         "tooltip": null
        },
        "view": {
         "height": 300,
         "width": 400
        }
       },
       "data": {
        "format": {
         "type": "json"
        },
        "url": "altair-data-66ab408643827f31e2e3cc809488153d.json"
       },
       "layer": [
        {
         "encoding": {
          "color": {
           "field": "gender",
           "sort": "descending",
           "type": "nominal"
          },
          "order": {
           "field": "gender",
           "sort": "ascending",
           "type": "nominal"
          },
          "x": {
           "axis": {
            "title": "Year"
           },
           "field": "death_year",
           "type": "ordinal"
          },
          "y": {
           "aggregate": "count",
           "axis": {
            "title": "Homicide count"
           },
           "field": "ID",
           "type": "quantitative"
          }
         },
         "mark": "bar",
         "title": "Homicide victims: 2008-2018",
         "width": 500
        },
        {
         "encoding": {
          "color": {
           "field": "gender",
           "sort": "descending",
           "type": "nominal"
          },
          "order": {
           "field": "gender",
           "sort": "ascending",
           "type": "nominal"
          },
          "text": {
           "aggregate": "count",
           "field": "ID",
           "type": "quantitative"
          },
          "x": {
           "axis": {
            "title": "Year"
           },
           "field": "death_year",
           "type": "ordinal"
          },
          "y": {
           "aggregate": "count",
           "axis": {
            "title": "Homicide count"
           },
           "field": "ID",
           "type": "quantitative"
          }
         },
         "mark": {
          "align": "center",
          "dy": -5,
          "stroke": "black",
          "strokeWidth": 0.5,
          "type": "text"
         },
         "title": "Homicide victims: 2008-2018",
         "width": 500
        }
       ]
      },
      "image/png": "[encoded data removed]",
      "text/plain": [
       "<VegaLite 3 object>\n",
       "\n",
       "If you see this message, it means the renderer has not been properly enabled\n",
       "for the frontend that you are using. For more information, see\n",
       "https://altair-viz.github.io/user_guide/troubleshooting.html\n"
      ]
     },
     "execution_count": 15,
     "metadata": {},
     "output_type": "execute_result"
    }
   ],
   "source": [
    "ten = alt.Chart(with_gender, title=\"Homicide victims: 2008-2018\").mark_bar().encode(\n",
    "        x=alt.X('death_year:O', axis = alt.Axis(title = \"Year\")),\n",
    "        y = alt.Y('count(ID)', axis = alt.Axis(title = \"Homicide count\")),\n",
    "        color= alt.Color('gender:N',sort=alt.SortOrder('descending')),\n",
    "        order = alt.Order('gender', sort='ascending')\n",
    "    ).properties(width = 500)\n",
    "\n",
    "text = ten.mark_text(\n",
    "        align = 'center',\n",
    "        stroke = 'black',\n",
    "        strokeWidth = 0.5,\n",
    "        dy= -5\n",
    "    ).encode(text ='count(ID)')\n",
    "\n",
    "ten + text"
   ]
  },
  {
   "cell_type": "markdown",
   "metadata": {},
   "source": [
    "=> **While fewer and fewer young men are being killed on the streets of LA, the number of female victims has increased.** "
   ]
  },
  {
   "cell_type": "markdown",
   "metadata": {},
   "source": [
    "Women homicides only from 2016-2018"
   ]
  },
  {
   "cell_type": "code",
   "execution_count": 16,
   "metadata": {},
   "outputs": [],
   "source": [
    "_1618 = with_gender[(with_gender.gender == 'female') & (with_gender.death_year.isin([2016,2017,2018]))]"
   ]
  },
  {
   "cell_type": "code",
   "execution_count": 17,
   "metadata": {},
   "outputs": [
    {
     "data": {
      "text/plain": [
       "295"
      ]
     },
     "execution_count": 17,
     "metadata": {},
     "output_type": "execute_result"
    }
   ],
   "source": [
    "_1618.ID.nunique()"
   ]
  },
  {
   "cell_type": "markdown",
   "metadata": {},
   "source": [
    "=> **In the past three years, 295 women were killed across the county**"
   ]
  },
  {
   "cell_type": "markdown",
   "metadata": {},
   "source": [
    "### Review the police investigation of all 295 female victims"
   ]
  },
  {
   "cell_type": "markdown",
   "metadata": {},
   "source": [
    "The Times then reviewed the outcome of the police investigation for all female victims from 2016 to 2018.\n",
    "\n",
    "We confirmed the following through records requests and interviews with the investigating agencies. \n",
    "1. Is the case being investigated by law enforcement?  \n",
    "2. What is the status of the investigation?  \n",
    "3. For \"cleared\" cases - the ones where the suspect is known to law enforcement - what was the suspect-victim relationship?\n",
    "\n",
    "The data is not be published with this notebook to avoid airing sensitive and potentially inaccurate information that was not fit for inclusion in our story."
   ]
  },
  {
   "cell_type": "code",
   "execution_count": 18,
   "metadata": {},
   "outputs": [],
   "source": [
    "victims =  pd.read_csv('victims.csv')"
   ]
  },
  {
   "cell_type": "markdown",
   "metadata": {},
   "source": [
    "Separate out the death year"
   ]
  },
  {
   "cell_type": "code",
   "execution_count": 19,
   "metadata": {},
   "outputs": [],
   "source": [
    "victims[\"death date\"] = pd.to_datetime(victims['death date'])"
   ]
  },
  {
   "cell_type": "code",
   "execution_count": 20,
   "metadata": {},
   "outputs": [],
   "source": [
    "victims['death_year'] = victims[\"death date\"].dt.year"
   ]
  },
  {
   "cell_type": "code",
   "execution_count": 21,
   "metadata": {},
   "outputs": [
    {
     "data": {
      "text/plain": [
       "295"
      ]
     },
     "execution_count": 21,
     "metadata": {},
     "output_type": "execute_result"
    }
   ],
   "source": [
    "len(victims)"
   ]
  },
  {
   "cell_type": "markdown",
   "metadata": {},
   "source": [
    "Verify our row count matches the homicide report database"
   ]
  },
  {
   "cell_type": "code",
   "execution_count": 22,
   "metadata": {},
   "outputs": [],
   "source": [
    "assert len(victims) == len(_1618) "
   ]
  },
  {
   "cell_type": "code",
   "execution_count": 23,
   "metadata": {},
   "outputs": [],
   "source": [
    "assert victims['coroners case number'].isin(_1618['coroners case number']).all()"
   ]
  },
  {
   "cell_type": "markdown",
   "metadata": {},
   "source": [
    "From the victims reviewed, we filtered out the ones law enforcement did not pursue (accidents, sequela..etc ).\n"
   ]
  },
  {
   "cell_type": "code",
   "execution_count": 24,
   "metadata": {},
   "outputs": [],
   "source": [
    "# c = cleared\n",
    "# U = open investigation\n",
    "cases = victims[victims.cleared.isin(['c','U'])]"
   ]
  },
  {
   "cell_type": "code",
   "execution_count": 25,
   "metadata": {},
   "outputs": [
    {
     "data": {
      "text/plain": [
       "291"
      ]
     },
     "execution_count": 25,
     "metadata": {},
     "output_type": "execute_result"
    }
   ],
   "source": [
    "len(cases)"
   ]
  },
  {
   "cell_type": "markdown",
   "metadata": {},
   "source": [
    "=> **The police investigated 291 cases from 2016-2018**"
   ]
  },
  {
   "cell_type": "code",
   "execution_count": 26,
   "metadata": {},
   "outputs": [
    {
     "data": {
      "text/plain": [
       "c    214\n",
       "U     77\n",
       "Name: cleared, dtype: int64"
      ]
     },
     "execution_count": 26,
     "metadata": {},
     "output_type": "execute_result"
    }
   ],
   "source": [
    "cases.cleared.value_counts()"
   ]
  },
  {
   "cell_type": "code",
   "execution_count": 27,
   "metadata": {},
   "outputs": [
    {
     "data": {
      "text/plain": [
       "c    0.735395\n",
       "U    0.264605\n",
       "Name: cleared, dtype: float64"
      ]
     },
     "execution_count": 27,
     "metadata": {},
     "output_type": "execute_result"
    }
   ],
   "source": [
    "cases.cleared.value_counts('normalize')"
   ]
  },
  {
   "cell_type": "markdown",
   "metadata": {},
   "source": [
    "Filter out only cleared cases where law enforcement have a suspect in mind."
   ]
  },
  {
   "cell_type": "code",
   "execution_count": 28,
   "metadata": {},
   "outputs": [],
   "source": [
    "cleared = cases[cases.cleared == 'c']"
   ]
  },
  {
   "cell_type": "code",
   "execution_count": 29,
   "metadata": {},
   "outputs": [
    {
     "data": {
      "text/plain": [
       "0.7353951890034365"
      ]
     },
     "execution_count": 29,
     "metadata": {},
     "output_type": "execute_result"
    }
   ],
   "source": [
    "len(cleared)/len(cases)"
   ]
  },
  {
   "cell_type": "markdown",
   "metadata": {},
   "source": [
    "=> **Nearly 3 out of 4 cases, the police have names a suspect (74%)**"
   ]
  },
  {
   "cell_type": "code",
   "execution_count": 30,
   "metadata": {},
   "outputs": [
    {
     "data": {
      "text/plain": [
       "Y    0.794393\n",
       "N    0.205607\n",
       "Name: suspect_knew_victim, dtype: float64"
      ]
     },
     "execution_count": 30,
     "metadata": {},
     "output_type": "execute_result"
    }
   ],
   "source": [
    "cleared['suspect_knew_victim'].value_counts('normalize')"
   ]
  },
  {
   "cell_type": "code",
   "execution_count": 31,
   "metadata": {},
   "outputs": [
    {
     "data": {
      "text/plain": [
       "Y    170\n",
       "N     44\n",
       "Name: suspect_knew_victim, dtype: int64"
      ]
     },
     "execution_count": 31,
     "metadata": {},
     "output_type": "execute_result"
    }
   ],
   "source": [
    "cleared['suspect_knew_victim'].value_counts()"
   ]
  },
  {
   "cell_type": "markdown",
   "metadata": {},
   "source": [
    "=> **The review found that in cases where police have named the suspect, the vast majority of accused killers knew their victim.**"
   ]
  },
  {
   "cell_type": "markdown",
   "metadata": {},
   "source": [
    "Separate out intimate relationships. List all determined "
   ]
  },
  {
   "cell_type": "code",
   "execution_count": 32,
   "metadata": {},
   "outputs": [
    {
     "data": {
      "text/plain": [
       "husband                   46\n",
       "boyfriend                 23\n",
       "ex-boyfriend              21\n",
       "son                       11\n",
       "OIS                        8\n",
       "acquaintance               7\n",
       "friend                     6\n",
       "partner                    6\n",
       "father                     5\n",
       "mother                     4\n",
       "roomate                    4\n",
       "mother's ex-boyfriend      3\n",
       "ex-husband                 3\n",
       "caregiver                  3\n",
       "granddaughter              2\n",
       "nephew                     2\n",
       "client                     2\n",
       "brother                    2\n",
       "great granddaughter        1\n",
       "gang                       1\n",
       "parents' co-worker         1\n",
       "daughter's boyfriend       1\n",
       "son's friend               1\n",
       "friend's ex-husband        1\n",
       "friend's brother           1\n",
       "stepsister's boyfriend     1\n",
       "son-in-law                 1\n",
       "sister's ex-boyfriend      1\n",
       "renter on property         1\n",
       "tenant's niece             1\n",
       "mother's boyfriend         1\n",
       "grandson                   1\n",
       "daughter's ex              1\n",
       "sister's boyfriend         1\n",
       "caregiver's son            1\n",
       "neighbor                   1\n",
       "grandmother                1\n",
       "brother-in-law             1\n",
       "Name: suspect_relationship, dtype: int64"
      ]
     },
     "execution_count": 32,
     "metadata": {},
     "output_type": "execute_result"
    }
   ],
   "source": [
    "cleared[\"suspect_relationship\"].value_counts()"
   ]
  },
  {
   "cell_type": "code",
   "execution_count": 33,
   "metadata": {},
   "outputs": [],
   "source": [
    "intimate_relationships = ['husband', 'boyfriend', 'ex-boyfriend', 'ex-husband','partner']"
   ]
  },
  {
   "cell_type": "code",
   "execution_count": 34,
   "metadata": {},
   "outputs": [],
   "source": [
    "intimate_homicides = cleared[cleared['suspect_relationship'].isin(intimate_relationships)]"
   ]
  },
  {
   "cell_type": "code",
   "execution_count": 35,
   "metadata": {},
   "outputs": [
    {
     "data": {
      "text/plain": [
       "99"
      ]
     },
     "execution_count": 35,
     "metadata": {},
     "output_type": "execute_result"
    }
   ],
   "source": [
    "len(intimate_homicides)"
   ]
  },
  {
   "cell_type": "code",
   "execution_count": 36,
   "metadata": {},
   "outputs": [
    {
     "data": {
      "text/plain": [
       "0.46261682242990654"
      ]
     },
     "execution_count": 36,
     "metadata": {},
     "output_type": "execute_result"
    }
   ],
   "source": [
    "len(intimate_homicides)/len(cleared)"
   ]
  },
  {
   "cell_type": "markdown",
   "metadata": {},
   "source": [
    "=> **Nearly half were, at some point, in an intimate relationship; husbands, boyfriends and, often, exes.(46%)**"
   ]
  },
  {
   "cell_type": "code",
   "execution_count": 37,
   "metadata": {},
   "outputs": [
    {
     "data": {
      "text/html": [
       "<div>\n",
       "<style scoped>\n",
       "    .dataframe tbody tr th:only-of-type {\n",
       "        vertical-align: middle;\n",
       "    }\n",
       "\n",
       "    .dataframe tbody tr th {\n",
       "        vertical-align: top;\n",
       "    }\n",
       "\n",
       "    .dataframe thead th {\n",
       "        text-align: right;\n",
       "    }\n",
       "</style>\n",
       "<table border=\"1\" class=\"dataframe\">\n",
       "  <thead>\n",
       "    <tr style=\"text-align: right;\">\n",
       "      <th></th>\n",
       "      <th>coroners case number</th>\n",
       "      <th>first name</th>\n",
       "      <th>middle name</th>\n",
       "      <th>last name</th>\n",
       "      <th>death date</th>\n",
       "      <th>age</th>\n",
       "      <th>cause</th>\n",
       "      <th>race</th>\n",
       "      <th>notes</th>\n",
       "      <th>cleared</th>\n",
       "      <th>suspect_knew_victim</th>\n",
       "      <th>suspect_relationship</th>\n",
       "      <th>coverage</th>\n",
       "      <th>death_year</th>\n",
       "    </tr>\n",
       "  </thead>\n",
       "  <tbody>\n",
       "    <tr>\n",
       "      <th>3</th>\n",
       "      <td>2017-02882</td>\n",
       "      <td>Alexiz</td>\n",
       "      <td>Miranda</td>\n",
       "      <td>Orona</td>\n",
       "      <td>2017-04-14</td>\n",
       "      <td>18</td>\n",
       "      <td>gunshot</td>\n",
       "      <td>latino</td>\n",
       "      <td>boyfriend +3 more suspects</td>\n",
       "      <td>c</td>\n",
       "      <td>Y</td>\n",
       "      <td>boyfriend</td>\n",
       "      <td>NaN</td>\n",
       "      <td>2017.0</td>\n",
       "    </tr>\n",
       "  </tbody>\n",
       "</table>\n",
       "</div>"
      ],
      "text/plain": [
       "  coroners case number first name middle name last name death date  age  \\\n",
       "3           2017-02882     Alexiz     Miranda     Orona 2017-04-14   18   \n",
       "\n",
       "     cause    race                       notes cleared suspect_knew_victim  \\\n",
       "3  gunshot  latino  boyfriend +3 more suspects       c                   Y   \n",
       "\n",
       "  suspect_relationship coverage  death_year  \n",
       "3            boyfriend      NaN      2017.0  "
      ]
     },
     "execution_count": 37,
     "metadata": {},
     "output_type": "execute_result"
    }
   ],
   "source": [
    "intimate_homicides.head(1)"
   ]
  },
  {
   "cell_type": "code",
   "execution_count": 38,
   "metadata": {},
   "outputs": [
    {
     "data": {
      "text/plain": [
       "2017.0    40\n",
       "2018.0    34\n",
       "2016.0    25\n",
       "Name: death_year, dtype: int64"
      ]
     },
     "execution_count": 38,
     "metadata": {},
     "output_type": "execute_result"
    }
   ],
   "source": [
    "intimate_homicides.death_year.value_counts()"
   ]
  },
  {
   "cell_type": "markdown",
   "metadata": {},
   "source": [
    "Create column to mark intimate partners"
   ]
  },
  {
   "cell_type": "code",
   "execution_count": 39,
   "metadata": {},
   "outputs": [],
   "source": [
    "cases['ip'] = cases['suspect_relationship'].isin(intimate_relationships)"
   ]
  },
  {
   "cell_type": "code",
   "execution_count": 40,
   "metadata": {},
   "outputs": [
    {
     "data": {
      "text/plain": [
       "death_year  suspect_knew_victim\n",
       "2016.0      Y                      0.738462\n",
       "            N                      0.261538\n",
       "2017.0      Y                      0.842857\n",
       "            N                      0.157143\n",
       "2018.0      Y                      0.807692\n",
       "            N                      0.192308\n",
       "Name: suspect_knew_victim, dtype: float64"
      ]
     },
     "execution_count": 40,
     "metadata": {},
     "output_type": "execute_result"
    }
   ],
   "source": [
    "cases.groupby('death_year')['suspect_knew_victim'].value_counts('normalize')"
   ]
  },
  {
   "cell_type": "markdown",
   "metadata": {},
   "source": [
    "**CAUSES**"
   ]
  },
  {
   "cell_type": "code",
   "execution_count": 41,
   "metadata": {},
   "outputs": [
    {
     "data": {
      "text/plain": [
       "gunshot        0.591696\n",
       "stabbing       0.169550\n",
       "blunt-force    0.124567\n",
       "other          0.055363\n",
       "strangled      0.038062\n",
       "pending        0.020761\n",
       "Name: cause, dtype: float64"
      ]
     },
     "execution_count": 41,
     "metadata": {},
     "output_type": "execute_result"
    }
   ],
   "source": [
    "cases.cause.value_counts('normalize')"
   ]
  },
  {
   "cell_type": "code",
   "execution_count": 42,
   "metadata": {},
   "outputs": [
    {
     "data": {
      "text/plain": [
       "gunshot        0.632653\n",
       "stabbing       0.214286\n",
       "blunt-force    0.081633\n",
       "strangled      0.040816\n",
       "other          0.030612\n",
       "Name: cause, dtype: float64"
      ]
     },
     "execution_count": 42,
     "metadata": {},
     "output_type": "execute_result"
    }
   ],
   "source": [
    "cases[cases.ip == True].cause.value_counts('normalize')"
   ]
  },
  {
   "cell_type": "markdown",
   "metadata": {},
   "source": [
    "**RACE**"
   ]
  },
  {
   "cell_type": "code",
   "execution_count": 43,
   "metadata": {},
   "outputs": [
    {
     "data": {
      "text/plain": [
       "latino    0.440972\n",
       "black     0.250000\n",
       "white     0.225694\n",
       "asian     0.079861\n",
       "other     0.003472\n",
       "Name: race, dtype: float64"
      ]
     },
     "execution_count": 43,
     "metadata": {},
     "output_type": "execute_result"
    }
   ],
   "source": [
    "cases.race.value_counts('normalize')"
   ]
  },
  {
   "cell_type": "code",
   "execution_count": 44,
   "metadata": {},
   "outputs": [
    {
     "data": {
      "text/plain": [
       "latino    0.443299\n",
       "white     0.309278\n",
       "black     0.164948\n",
       "asian     0.082474\n",
       "Name: race, dtype: float64"
      ]
     },
     "execution_count": 44,
     "metadata": {},
     "output_type": "execute_result"
    }
   ],
   "source": [
    "cases[cases.ip == True].race.value_counts('normalize')"
   ]
  },
  {
   "cell_type": "markdown",
   "metadata": {},
   "source": [
    "**AGE**"
   ]
  },
  {
   "cell_type": "code",
   "execution_count": 45,
   "metadata": {},
   "outputs": [
    {
     "data": {
      "text/plain": [
       "35.0"
      ]
     },
     "execution_count": 45,
     "metadata": {},
     "output_type": "execute_result"
    }
   ],
   "source": [
    "cases.age.median()"
   ]
  },
  {
   "cell_type": "code",
   "execution_count": 46,
   "metadata": {},
   "outputs": [
    {
     "data": {
      "text/plain": [
       "35.0"
      ]
     },
     "execution_count": 46,
     "metadata": {},
     "output_type": "execute_result"
    }
   ],
   "source": [
    "cases[cases.ip == True].age.median()"
   ]
  },
  {
   "cell_type": "markdown",
   "metadata": {},
   "source": [
    "### Causes and age among male victims vs. female victims from 2016 to 2018"
   ]
  },
  {
   "cell_type": "code",
   "execution_count": 47,
   "metadata": {},
   "outputs": [],
   "source": [
    "men_1618 = with_gender[(with_gender.gender == 'male') & (with_gender.death_year.isin([2016,2017,2018]))]"
   ]
  },
  {
   "cell_type": "code",
   "execution_count": 48,
   "metadata": {},
   "outputs": [
    {
     "data": {
      "text/plain": [
       "gunshot         0.769185\n",
       "stabbing        0.104105\n",
       "blunt-force     0.078525\n",
       "other           0.033314\n",
       "pending         0.007139\n",
       "strangled       0.005354\n",
       "undetermined    0.002380\n",
       "Name: cause, dtype: float64"
      ]
     },
     "execution_count": 48,
     "metadata": {},
     "output_type": "execute_result"
    }
   ],
   "source": [
    "men_1618.cause.value_counts('normalize')"
   ]
  },
  {
   "cell_type": "code",
   "execution_count": 49,
   "metadata": {},
   "outputs": [
    {
     "data": {
      "text/plain": [
       "31.0"
      ]
     },
     "execution_count": 49,
     "metadata": {},
     "output_type": "execute_result"
    }
   ],
   "source": [
    "men_1618.age.median()"
   ]
  },
  {
   "cell_type": "markdown",
   "metadata": {},
   "source": [
    "### Income levels in incident neighborhoods "
   ]
  },
  {
   "cell_type": "markdown",
   "metadata": {},
   "source": [
    "Merge case information with previous API pull for complete information"
   ]
  },
  {
   "cell_type": "code",
   "execution_count": 50,
   "metadata": {},
   "outputs": [],
   "source": [
    "cases_detailed = pd.merge(cases, _1618, on='coroners case number', how='inner')"
   ]
  },
  {
   "cell_type": "code",
   "execution_count": 51,
   "metadata": {},
   "outputs": [
    {
     "data": {
      "text/plain": [
       "291"
      ]
     },
     "execution_count": 51,
     "metadata": {},
     "output_type": "execute_result"
    }
   ],
   "source": [
    "len(cases_detailed)"
   ]
  },
  {
   "cell_type": "markdown",
   "metadata": {},
   "source": [
    "What are top neighborhoods where homicide occurs"
   ]
  },
  {
   "cell_type": "code",
   "execution_count": 52,
   "metadata": {},
   "outputs": [
    {
     "data": {
      "text/plain": [
       "['Long Beach', 'Inglewood', 'Westlake', 'Compton', 'Carson', 'Hawthorne']"
      ]
     },
     "execution_count": 52,
     "metadata": {},
     "output_type": "execute_result"
    }
   ],
   "source": [
    "cases_detailed['neighborhoodv6__name'].value_counts().head(6).index.tolist()"
   ]
  },
  {
   "cell_type": "markdown",
   "metadata": {},
   "source": [
    "Read median income file"
   ]
  },
  {
   "cell_type": "code",
   "execution_count": 60,
   "metadata": {},
   "outputs": [],
   "source": [
    "income = pd.read_csv('2017_income.csv')"
   ]
  },
  {
   "cell_type": "code",
   "execution_count": 61,
   "metadata": {},
   "outputs": [
    {
     "data": {
      "text/plain": [
       "270"
      ]
     },
     "execution_count": 61,
     "metadata": {},
     "output_type": "execute_result"
    }
   ],
   "source": [
    "len(income)"
   ]
  },
  {
   "cell_type": "markdown",
   "metadata": {},
   "source": [
    "Median income for L.A. County is $61,015 per [U.S. Census]('https://www.census.gov/quickfacts/losangelescountycalifornia')"
   ]
  },
  {
   "cell_type": "markdown",
   "metadata": {},
   "source": [
    "Neighborhoods below median income level"
   ]
  },
  {
   "cell_type": "code",
   "execution_count": 62,
   "metadata": {},
   "outputs": [],
   "source": [
    "below = income[income.median_income < 61015].neighborhood.tolist()"
   ]
  },
  {
   "cell_type": "code",
   "execution_count": 63,
   "metadata": {},
   "outputs": [
    {
     "data": {
      "text/plain": [
       "113"
      ]
     },
     "execution_count": 63,
     "metadata": {},
     "output_type": "execute_result"
    }
   ],
   "source": [
    "len(below)"
   ]
  },
  {
   "cell_type": "markdown",
   "metadata": {},
   "source": [
    "Neighborhoods above median income level"
   ]
  },
  {
   "cell_type": "code",
   "execution_count": 64,
   "metadata": {},
   "outputs": [],
   "source": [
    "above = income[income.median_income > 61015].neighborhood.tolist()"
   ]
  },
  {
   "cell_type": "code",
   "execution_count": 65,
   "metadata": {},
   "outputs": [
    {
     "data": {
      "text/plain": [
       "157"
      ]
     },
     "execution_count": 65,
     "metadata": {},
     "output_type": "execute_result"
    }
   ],
   "source": [
    "len(above)"
   ]
  },
  {
   "cell_type": "markdown",
   "metadata": {},
   "source": [
    "how many victims' neighborhood is from ones below median?"
   ]
  },
  {
   "cell_type": "code",
   "execution_count": 66,
   "metadata": {},
   "outputs": [
    {
     "data": {
      "text/plain": [
       "190"
      ]
     },
     "execution_count": 66,
     "metadata": {},
     "output_type": "execute_result"
    }
   ],
   "source": [
    "len(cases_detailed[cases_detailed['neighborhoodv6__name'].isin(below)])"
   ]
  },
  {
   "cell_type": "markdown",
   "metadata": {},
   "source": [
    "how many victims' neighborhood from ones above median income"
   ]
  },
  {
   "cell_type": "code",
   "execution_count": 67,
   "metadata": {},
   "outputs": [
    {
     "data": {
      "text/plain": [
       "89"
      ]
     },
     "execution_count": 67,
     "metadata": {},
     "output_type": "execute_result"
    }
   ],
   "source": [
    "len(cases_detailed[cases_detailed['neighborhoodv6__name'].isin(above)])"
   ]
  },
  {
   "cell_type": "markdown",
   "metadata": {},
   "source": [
    "How many with missing neighborhoods?"
   ]
  },
  {
   "cell_type": "code",
   "execution_count": 68,
   "metadata": {},
   "outputs": [
    {
     "data": {
      "text/plain": [
       "12"
      ]
     },
     "execution_count": 68,
     "metadata": {},
     "output_type": "execute_result"
    }
   ],
   "source": [
    "len(cases_detailed)-(len(cases_detailed[cases_detailed['neighborhoodv6__name'].isin(below)])+len(cases_detailed[cases_detailed['neighborhoodv6__name'].isin(above)]))"
   ]
  },
  {
   "cell_type": "code",
   "execution_count": 69,
   "metadata": {},
   "outputs": [
    {
     "data": {
      "text/plain": [
       "0.6810035842293907"
      ]
     },
     "execution_count": 69,
     "metadata": {},
     "output_type": "execute_result"
    }
   ],
   "source": [
    "(190)/(291-12)"
   ]
  },
  {
   "cell_type": "markdown",
   "metadata": {},
   "source": [
    "=> **70% victims died in neighborhoods with median income lower than county's median**"
   ]
  },
  {
   "cell_type": "markdown",
   "metadata": {},
   "source": [
    "Compare male victims"
   ]
  },
  {
   "cell_type": "code",
   "execution_count": 70,
   "metadata": {},
   "outputs": [
    {
     "data": {
      "text/plain": [
       "0.7829964328180737"
      ]
     },
     "execution_count": 70,
     "metadata": {},
     "output_type": "execute_result"
    }
   ],
   "source": [
    "len(men_1618[men_1618['neighborhoodv6__name'].isin(below)])/len(men_1618)"
   ]
  },
  {
   "cell_type": "markdown",
   "metadata": {},
   "source": [
    "### Create a dataset ready for visualization"
   ]
  },
  {
   "cell_type": "markdown",
   "metadata": {},
   "source": [
    "Modify dataframe for visualization"
   ]
  },
  {
   "cell_type": "code",
   "execution_count": 71,
   "metadata": {},
   "outputs": [],
   "source": [
    "viz = cases.copy()"
   ]
  },
  {
   "cell_type": "code",
   "execution_count": 72,
   "metadata": {},
   "outputs": [
    {
     "data": {
      "text/html": [
       "<div>\n",
       "<style scoped>\n",
       "    .dataframe tbody tr th:only-of-type {\n",
       "        vertical-align: middle;\n",
       "    }\n",
       "\n",
       "    .dataframe tbody tr th {\n",
       "        vertical-align: top;\n",
       "    }\n",
       "\n",
       "    .dataframe thead th {\n",
       "        text-align: right;\n",
       "    }\n",
       "</style>\n",
       "<table border=\"1\" class=\"dataframe\">\n",
       "  <thead>\n",
       "    <tr style=\"text-align: right;\">\n",
       "      <th></th>\n",
       "      <th>coroners case number</th>\n",
       "      <th>first name</th>\n",
       "      <th>middle name</th>\n",
       "      <th>last name</th>\n",
       "      <th>death date</th>\n",
       "      <th>age</th>\n",
       "      <th>cause</th>\n",
       "      <th>race</th>\n",
       "      <th>notes</th>\n",
       "      <th>cleared</th>\n",
       "      <th>suspect_knew_victim</th>\n",
       "      <th>suspect_relationship</th>\n",
       "      <th>coverage</th>\n",
       "      <th>death_year</th>\n",
       "      <th>ip</th>\n",
       "    </tr>\n",
       "  </thead>\n",
       "  <tbody>\n",
       "    <tr>\n",
       "      <th>0</th>\n",
       "      <td>2018-05087</td>\n",
       "      <td>Abril</td>\n",
       "      <td>NaN</td>\n",
       "      <td>Onofre</td>\n",
       "      <td>2018-07-05</td>\n",
       "      <td>19</td>\n",
       "      <td>gunshot</td>\n",
       "      <td>latino</td>\n",
       "      <td>NaN</td>\n",
       "      <td>U</td>\n",
       "      <td>NaN</td>\n",
       "      <td>NaN</td>\n",
       "      <td>https://homicide.latimes.com/post/abril-onofre/</td>\n",
       "      <td>2018.0</td>\n",
       "      <td>False</td>\n",
       "    </tr>\n",
       "  </tbody>\n",
       "</table>\n",
       "</div>"
      ],
      "text/plain": [
       "  coroners case number first name middle name last name death date  age  \\\n",
       "0           2018-05087      Abril         NaN    Onofre 2018-07-05   19   \n",
       "\n",
       "     cause    race notes cleared suspect_knew_victim suspect_relationship  \\\n",
       "0  gunshot  latino   NaN       U                 NaN                  NaN   \n",
       "\n",
       "                                          coverage  death_year     ip  \n",
       "0  https://homicide.latimes.com/post/abril-onofre/      2018.0  False  "
      ]
     },
     "execution_count": 72,
     "metadata": {},
     "output_type": "execute_result"
    }
   ],
   "source": [
    "cases.head(1)"
   ]
  },
  {
   "cell_type": "code",
   "execution_count": 73,
   "metadata": {},
   "outputs": [],
   "source": [
    "#Mark open investigation\n",
    "viz.loc[viz.cleared=='U', 'status'] = 'open'\n",
    "#Mark ones with arrest but suspect is random to victim\n",
    "viz.loc[((viz.cleared=='c')& ~(viz['suspect_knew_victim'] == 'Y')), 'status'] = 'random_suspect'\n",
    "#Mark ones with arrest and suspect is known to victim \n",
    "viz.loc[((viz.cleared=='c')&(viz['suspect_knew_victim'] == 'Y')), 'status'] = 'familiar_suspect'\n",
    "#mark ones with arresta and suspect is romantic\n",
    "viz.loc[((viz.cleared=='c')&(viz['ip'] == True)), 'status'] = 'intimate_partner'"
   ]
  },
  {
   "cell_type": "code",
   "execution_count": 74,
   "metadata": {},
   "outputs": [],
   "source": [
    "trimmed_viz = viz.rename(columns={'last name':'last_name','death date':'death_date' })"
   ]
  },
  {
   "cell_type": "code",
   "execution_count": 75,
   "metadata": {},
   "outputs": [],
   "source": [
    "trimmed_viz = trimmed_viz[[\n",
    "    'last_name',\n",
    "    'death_date',\n",
    "    'age',\n",
    "    'cause',\n",
    "    'race',\n",
    "    'status'\n",
    "]]"
   ]
  },
  {
   "cell_type": "code",
   "execution_count": 76,
   "metadata": {},
   "outputs": [],
   "source": [
    "trimmed_viz.to_csv(\"women.csv\", index=False)"
   ]
  }
 ],
 "metadata": {
  "kernelspec": {
   "display_name": "Python 3",
   "language": "python",
   "name": "python3"
  },
  "language_info": {
   "codemirror_mode": {
    "name": "ipython",
    "version": 3
   },
   "file_extension": ".py",
   "mimetype": "text/x-python",
   "name": "python",
   "nbconvert_exporter": "python",
   "pygments_lexer": "ipython3",
   "version": "3.6.8"
  }
 },
 "nbformat": 4,
 "nbformat_minor": 4
}
